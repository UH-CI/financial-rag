{
 "cells": [
  {
   "cell_type": "code",
   "execution_count": 1,
   "id": "11c74e69",
   "metadata": {},
   "outputs": [],
   "source": [
    "import requests"
   ]
  },
  {
   "cell_type": "code",
   "execution_count": 7,
   "id": "7f63b3ba",
   "metadata": {},
   "outputs": [
    {
     "ename": "AttributeError",
     "evalue": "'Response' object has no attribute 'body'",
     "output_type": "error",
     "traceback": [
      "\u001b[31m---------------------------------------------------------------------------\u001b[39m",
      "\u001b[31mAttributeError\u001b[39m                            Traceback (most recent call last)",
      "\u001b[36mCell\u001b[39m\u001b[36m \u001b[39m\u001b[32mIn[7]\u001b[39m\u001b[32m, line 62\u001b[39m\n\u001b[32m     60\u001b[39m \u001b[38;5;28;01mif\u001b[39;00m \u001b[34m__name__\u001b[39m == \u001b[33m\"\u001b[39m\u001b[33m__main__\u001b[39m\u001b[33m\"\u001b[39m:\n\u001b[32m     61\u001b[39m     url = \u001b[33m\"\u001b[39m\u001b[33mhttps://www.hawaii.edu/policy/index.php?action=viewPolicy&policySection=ep&policyChapter=5&policyNumber=215\u001b[39m\u001b[33m\"\u001b[39m\n\u001b[32m---> \u001b[39m\u001b[32m62\u001b[39m     plain_text = fetch_and_convert(url)\n\u001b[32m     63\u001b[39m     \u001b[38;5;28mprint\u001b[39m(plain_text)\n",
      "\u001b[36mCell\u001b[39m\u001b[36m \u001b[39m\u001b[32mIn[7]\u001b[39m\u001b[32m, line 50\u001b[39m, in \u001b[36mfetch_and_convert\u001b[39m\u001b[34m(url)\u001b[39m\n\u001b[32m     47\u001b[39m response = requests.get(url)\n\u001b[32m     48\u001b[39m response.raise_for_status()  \u001b[38;5;66;03m# Raises an error if the request failed\u001b[39;00m\n\u001b[32m---> \u001b[39m\u001b[32m50\u001b[39m html_content = response.body\n\u001b[32m     52\u001b[39m \u001b[38;5;66;03m# Initialize html2text converter\u001b[39;00m\n\u001b[32m     53\u001b[39m h = html2text.HTML2Text()\n",
      "\u001b[31mAttributeError\u001b[39m: 'Response' object has no attribute 'body'"
     ]
    }
   ],
   "source": [
    "import requests\n",
    "import html2text\n",
    "\n",
    "from bs4 import BeautifulSoup\n",
    "from html2text import HTML2Text\n",
    "from abc import ABC, abstractmethod\n",
    "\n",
    "\n",
    "class Parser(ABC):\n",
    "    \"\"\"\n",
    "    Interface for Parsing Strings\n",
    "    \"\"\"\n",
    "\n",
    "    @abstractmethod\n",
    "    def parse(self, text: str) -> str:\n",
    "        return text\n",
    "\n",
    "class HTMLParser(Parser):\n",
    "    def __init__(self, html2text: HTML2Text, ids: list[str] = [], tags: list[str] = []):\n",
    "        self.h = html2text\n",
    "        self.ids = ids\n",
    "        self.tags = tags\n",
    "\n",
    "    def parse(self, text: str) -> str:\n",
    "        soup = BeautifulSoup(text, \"html.parser\")\n",
    "\n",
    "        # First, look for elements by id in provided order\n",
    "        for element_id in self.ids:\n",
    "            element = soup.find(id=element_id)\n",
    "            if element:\n",
    "                return self.h.handle(str(element))\n",
    "\n",
    "        # Next, look for the first available element by tag name\n",
    "        for tag in self.tags:\n",
    "            element = soup.find(tag)\n",
    "            if element:\n",
    "                return self.h.handle(str(element))\n",
    "\n",
    "        # Fallback: process the entire HTML\n",
    "        return self.h.handle(text)\n",
    "\n",
    "\n",
    "def fetch_and_convert(url):\n",
    "    \"\"\"\n",
    "    Fetches the content from the given URL and converts it to readable text using html2text.\n",
    "    \"\"\"\n",
    "    response = requests.get(url)\n",
    "    response.raise_for_status()  # Raises an error if the request failed\n",
    "\n",
    "    html_content = response.body\n",
    "\n",
    "    # Initialize html2text converter\n",
    "    h = html2text.HTML2Text()\n",
    "    h.ignore_links = False        # Set to True to skip link formatting\n",
    "    h.body_width = 0              # Disable line wrapping for raw readability\n",
    "\n",
    "    text = h.handle(html_content)\n",
    "    return HTMLParser(h, ids=[\"content\"]).parse(html_content)\n",
    "\n",
    "if __name__ == \"__main__\":\n",
    "    url = \"https://www.hawaii.edu/policy/index.php?action=viewPolicy&policySection=ep&policyChapter=5&policyNumber=215\"\n",
    "    plain_text = fetch_and_convert(url)\n",
    "    print(plain_text)\n"
   ]
  },
  {
   "cell_type": "code",
   "execution_count": 11,
   "id": "fc10b66d",
   "metadata": {},
   "outputs": [
    {
     "ename": "ImportError",
     "evalue": "cannot import name 'Document' from 'readability' (/Users/rodericktabalba/miniforge3/envs/house_finance_env/lib/python3.11/site-packages/readability/__init__.py)",
     "output_type": "error",
     "traceback": [
      "\u001b[31m---------------------------------------------------------------------------\u001b[39m",
      "\u001b[31mImportError\u001b[39m                               Traceback (most recent call last)",
      "\u001b[36mCell\u001b[39m\u001b[36m \u001b[39m\u001b[32mIn[11]\u001b[39m\u001b[32m, line 2\u001b[39m\n\u001b[32m      1\u001b[39m \u001b[38;5;28;01mimport\u001b[39;00m\u001b[38;5;250m \u001b[39m\u001b[34;01mrequests\u001b[39;00m\n\u001b[32m----> \u001b[39m\u001b[32m2\u001b[39m \u001b[38;5;28;01mfrom\u001b[39;00m\u001b[38;5;250m \u001b[39m\u001b[34;01mreadability\u001b[39;00m\u001b[38;5;250m \u001b[39m\u001b[38;5;28;01mimport\u001b[39;00m Document\n\u001b[32m      4\u001b[39m url = \u001b[33m\"\u001b[39m\u001b[33mhttps://www.hawaii.edu/policy/index.php?action=viewPolicy&policySection=ep&policyChapter=5&policyNumber=215\u001b[39m\u001b[33m\"\u001b[39m\n\u001b[32m      6\u001b[39m html = requests.get(url).text\n",
      "\u001b[31mImportError\u001b[39m: cannot import name 'Document' from 'readability' (/Users/rodericktabalba/miniforge3/envs/house_finance_env/lib/python3.11/site-packages/readability/__init__.py)"
     ]
    }
   ],
   "source": [
    "import requests\n",
    "from readability import Document\n",
    "\n",
    "url = \"https://www.hawaii.edu/policy/index.php?action=viewPolicy&policySection=ep&policyChapter=5&policyNumber=215\"\n",
    "\n",
    "html = requests.get(url).text\n",
    "\n",
    "doc = Document(html)\n",
    "main_content_html = doc.summary()      # HTML of the main article\n",
    "main_content_text = doc.title() + \"\\n\" + Document(html).summary()\n",
    "\n",
    "print(main_content_text)"
   ]
  },
  {
   "cell_type": "code",
   "execution_count": null,
   "id": "d75955b2",
   "metadata": {},
   "outputs": [],
   "source": []
  }
 ],
 "metadata": {
  "kernelspec": {
   "display_name": "house_finance_env",
   "language": "python",
   "name": "python3"
  },
  "language_info": {
   "codemirror_mode": {
    "name": "ipython",
    "version": 3
   },
   "file_extension": ".py",
   "mimetype": "text/x-python",
   "name": "python",
   "nbconvert_exporter": "python",
   "pygments_lexer": "ipython3",
   "version": "3.11.13"
  }
 },
 "nbformat": 4,
 "nbformat_minor": 5
}
